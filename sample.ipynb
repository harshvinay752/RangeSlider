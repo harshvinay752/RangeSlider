{
 "cells": [
  {
   "cell_type": "code",
   "execution_count": 8,
   "metadata": {},
   "outputs": [],
   "source": [
    "from RangeSlider.RangeSlider import RangeSliderH, RangeSliderV\n",
    "\n",
    "from tkinter.ttk import *\n",
    "import tkinter as tk\n",
    "\n",
    "root = tk.Tk()\n",
    " \n",
    "hLeft = tk.DoubleVar(value = 0.2)  #left handle variable initialised to value 0.2\n",
    "hRight = tk.DoubleVar(value = 0.85)  #right handle variable initialised to value 0.85\n",
    "hSlider = RangeSliderH( root , [hLeft, hRight], padX = 12, step_marker = True, step_size = 0.1)   #horizontal slider\n",
    "hSlider.pack()   # or grid or place method could be used\n",
    "\n",
    "vBottom = tk.DoubleVar(value = 0)   #bottom handle variable\n",
    "vTop = tk.DoubleVar(value = 1)   #top handle variable\n",
    "vSlider = RangeSliderV( root, [vBottom, vTop], padY = 12)    #vertical slider\n",
    "vSlider.pack()  # or grid or place method could be used\n",
    "\n",
    "root.mainloop()"
   ]
  }
 ],
 "metadata": {
  "kernelspec": {
   "display_name": "Python 3",
   "language": "python",
   "name": "python3"
  },
  "language_info": {
   "codemirror_mode": {
    "name": "ipython",
    "version": 3
   },
   "file_extension": ".py",
   "mimetype": "text/x-python",
   "name": "python",
   "nbconvert_exporter": "python",
   "pygments_lexer": "ipython3",
   "version": "3.10.6 (main, Nov 14 2022, 16:10:14) [GCC 11.3.0]"
  },
  "orig_nbformat": 4,
  "vscode": {
   "interpreter": {
    "hash": "31f2aee4e71d21fbe5cf8b01ff0e069b9275f58929596ceb00d14d90e3e16cd6"
   }
  }
 },
 "nbformat": 4,
 "nbformat_minor": 2
}
